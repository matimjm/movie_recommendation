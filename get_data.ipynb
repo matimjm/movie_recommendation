{
 "cells": [
  {
   "cell_type": "markdown",
   "id": "323f1e42",
   "metadata": {},
   "source": [
    "## This code gets data from the dataset and preprocesses it for analysis.\n",
    "\n",
    "Key datapoints for each movie:\n",
    "id, title, vote_average, vote_count, status, release_date, revenue, runtime, adult, backdrop_path, budget,\n",
    "homepage, imdb_id, original_language, original_title, overview, popularity, poster_path, tagline, genres,\n",
    "production_companies, production_countries, spoken_languages, keywords\n"
   ]
  },
  {
   "cell_type": "code",
   "execution_count": 2,
   "id": "1f01ed82",
   "metadata": {},
   "outputs": [],
   "source": [
    "\n",
    "#importing the data\n",
    "import kagglehub\n",
    "import csv\n",
    "import pandas as pd"
   ]
  },
  {
   "cell_type": "code",
   "execution_count": 3,
   "id": "185f9db1",
   "metadata": {},
   "outputs": [
    {
     "name": "stdout",
     "output_type": "stream",
     "text": [
      "Path to dataset files: C:\\Users\\DELL\\.cache\\kagglehub\\datasets\\asaniczka\\tmdb-movies-dataset-2023-930k-movies\\versions\\692\n"
     ]
    }
   ],
   "source": [
    "# Download latest version of data\n",
    "\n",
    "path = kagglehub.dataset_download(\"asaniczka/tmdb-movies-dataset-2023-930k-movies\")\n",
    "\n",
    "# print path the data is in\n",
    "print(\"Path to dataset files:\", path)"
   ]
  },
  {
   "cell_type": "code",
   "execution_count": 9,
   "id": "b92e624f",
   "metadata": {},
   "outputs": [
    {
     "data": {
      "text/plain": [
       "np.int64(1276950)"
      ]
     },
     "execution_count": 9,
     "metadata": {},
     "output_type": "execute_result"
    }
   ],
   "source": [
    "# Convert the CSV file to Pandas dataframe\n",
    "list_of_data = [] # create empty list of data\n",
    "\n",
    "# import csv directly into pandas dataframe\n",
    "df = pd.read_csv(\"TMDB_movie_dataset_v11.csv\")\n",
    "\n",
    "# calculate the number of rows that contain at least one NaN value\n",
    "nan_rows_count = df.isna().any(axis=1).sum()\n",
    "\n",
    "nan_rows_count # there is more than 10% data that contains a nan value\n"
   ]
  },
  {
   "cell_type": "code",
   "execution_count": null,
   "id": "c1ddaaad",
   "metadata": {},
   "outputs": [
    {
     "data": {
      "text/plain": [
       "id                        int64\n",
       "title                    object\n",
       "vote_average            float64\n",
       "vote_count                int64\n",
       "status                   object\n",
       "release_date             object\n",
       "revenue                   int64\n",
       "runtime                   int64\n",
       "adult                      bool\n",
       "backdrop_path            object\n",
       "budget                    int64\n",
       "homepage                 object\n",
       "imdb_id                  object\n",
       "original_language        object\n",
       "original_title           object\n",
       "overview                 object\n",
       "popularity              float64\n",
       "poster_path              object\n",
       "tagline                  object\n",
       "genres                   object\n",
       "production_companies     object\n",
       "production_countries     object\n",
       "spoken_languages         object\n",
       "keywords                 object\n",
       "dtype: object"
      ]
     },
     "execution_count": 10,
     "metadata": {},
     "output_type": "execute_result"
    }
   ],
   "source": [
    "#print the dtypes of all columns\n",
    "df.dtypes"
   ]
  },
  {
   "cell_type": "code",
   "execution_count": null,
   "id": "67c54e3c",
   "metadata": {},
   "outputs": [],
   "source": [
    "#TODO \n",
    "# - Data cleaning - replace empty values with empty strings lists, or mean values from col"
   ]
  }
 ],
 "metadata": {
  "kernelspec": {
   "display_name": "Python 3",
   "language": "python",
   "name": "python3"
  },
  "language_info": {
   "codemirror_mode": {
    "name": "ipython",
    "version": 3
   },
   "file_extension": ".py",
   "mimetype": "text/x-python",
   "name": "python",
   "nbconvert_exporter": "python",
   "pygments_lexer": "ipython3",
   "version": "3.13.7"
  }
 },
 "nbformat": 4,
 "nbformat_minor": 5
}
