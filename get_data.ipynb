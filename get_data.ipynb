version https://git-lfs.github.com/spec/v1
oid sha256:988efbd74f7e5a80b8b5cd19be7a26ebee935bd7d4fc3350102a21d5728ab0fd
size 57748
