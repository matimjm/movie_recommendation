version https://git-lfs.github.com/spec/v1
oid sha256:8604a238db2ac02ba21eb040ef485e3dece200f7f9989c625272afe56e2814aa
size 57818
